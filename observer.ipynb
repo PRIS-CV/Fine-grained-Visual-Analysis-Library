{
 "cells": [
  {
   "cell_type": "code",
   "execution_count": null,
   "metadata": {},
   "outputs": [],
   "source": [
    "import os\n",
    "import torch\n",
    "\n",
    "from fgvclib.apis import *\n",
    "from fgvclib.configs import FGVCConfig\n",
    "from fgvclib.utils.visualization import VOXEL"
   ]
  },
  {
   "cell_type": "markdown",
   "metadata": {},
   "source": [
    "### Load Config"
   ]
  },
  {
   "cell_type": "code",
   "execution_count": null,
   "metadata": {},
   "outputs": [],
   "source": [
    "config_file = \"./configs/baseline_restnet50.yml\"\n",
    "config = FGVCConfig()\n",
    "config.load(config_file)\n",
    "cfg = config.cfg\n",
    "print(cfg)"
   ]
  },
  {
   "cell_type": "markdown",
   "metadata": {},
   "source": [
    "### build Model"
   ]
  },
  {
   "cell_type": "code",
   "execution_count": null,
   "metadata": {},
   "outputs": [],
   "source": [
    "model = build_model(cfg.MODEL)\n",
    "weight_path = os.path.join(cfg.WEIGHT.SAVE_DIR, cfg.WEIGHT.NAME)\n",
    "assert os.path.exists(weight_path), f\"The resume weight {cfg.RESUME_WEIGHT} dosn't exists.\"\n",
    "state_dict = torch.load(weight_path, map_location=\"cpu\")\n",
    "model.load_state_dict(state_dict=state_dict)\n",
    "\n",
    "if cfg.USE_CUDA:\n",
    "    assert torch.cuda.is_available(), f\"Cuda is not available.\"\n",
    "    model = torch.nn.DataParallel(model)\n",
    "\n",
    "transforms = build_transforms(cfg.TRANSFORMS.TEST)\n",
    "loader = build_dataset(root=os.path.join(cfg.DATASETS.ROOT, 'test'), cfg=cfg.DATASETS.TEST, transforms=transforms)\n",
    "\n",
    "interpreter = build_interpreter(model, cfg)\n",
    "voxel = VOXEL(dataset=loader.dataset, name=cfg.FIFTYONE.NAME, interpreter=interpreter)\n",
    "voxel.predict(model, transforms, 10, cfg.MODEL.NAME)\n",
    "voxel.launch()"
   ]
  }
 ],
 "metadata": {
  "kernelspec": {
   "display_name": "Python 3.7.13 ('DomainAug')",
   "language": "python",
   "name": "python3"
  },
  "language_info": {
   "codemirror_mode": {
    "name": "ipython",
    "version": 3
   },
   "file_extension": ".py",
   "mimetype": "text/x-python",
   "name": "python",
   "nbconvert_exporter": "python",
   "pygments_lexer": "ipython3",
   "version": "3.7.13"
  },
  "orig_nbformat": 4,
  "vscode": {
   "interpreter": {
    "hash": "bd6b06855f274f2277a2f7686fea68f916535735cd03bfd17d6cd4ef91dd7383"
   }
  }
 },
 "nbformat": 4,
 "nbformat_minor": 2
}
